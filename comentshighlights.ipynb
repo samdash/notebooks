{
 "cells": [
  {
   "cell_type": "code",
   "execution_count": 1,
   "metadata": {},
   "outputs": [],
   "source": [
    "import numpy as np\n",
    "import pandas as pd\n",
    "import sys"
   ]
  },
  {
   "cell_type": "code",
   "execution_count": 2,
   "metadata": {},
   "outputs": [
    {
     "data": {
      "text/plain": [
       "'3.6.5 (default, Apr 25 2018, 14:23:58) \\n[GCC 4.2.1 Compatible Apple LLVM 9.1.0 (clang-902.0.39.1)]'"
      ]
     },
     "execution_count": 2,
     "metadata": {},
     "output_type": "execute_result"
    }
   ],
   "source": [
    "sys.version"
   ]
  },
  {
   "cell_type": "code",
   "execution_count": 3,
   "metadata": {},
   "outputs": [],
   "source": [
    "reviews = pd.read_csv(\"/Users/samaraarkotti/Downloads/reviews/reviews.csv\")"
   ]
  },
  {
   "cell_type": "code",
   "execution_count": 4,
   "metadata": {},
   "outputs": [
    {
     "data": {
      "text/html": [
       "<div>\n",
       "<style scoped>\n",
       "    .dataframe tbody tr th:only-of-type {\n",
       "        vertical-align: middle;\n",
       "    }\n",
       "\n",
       "    .dataframe tbody tr th {\n",
       "        vertical-align: top;\n",
       "    }\n",
       "\n",
       "    .dataframe thead th {\n",
       "        text-align: right;\n",
       "    }\n",
       "</style>\n",
       "<table border=\"1\" class=\"dataframe\">\n",
       "  <thead>\n",
       "    <tr style=\"text-align: right;\">\n",
       "      <th></th>\n",
       "      <th>listing_id</th>\n",
       "      <th>id</th>\n",
       "      <th>date</th>\n",
       "      <th>reviewer_id</th>\n",
       "      <th>reviewer_name</th>\n",
       "      <th>comments</th>\n",
       "    </tr>\n",
       "  </thead>\n",
       "  <tbody>\n",
       "    <tr>\n",
       "      <th>0</th>\n",
       "      <td>1178162</td>\n",
       "      <td>4724140</td>\n",
       "      <td>2013-05-21</td>\n",
       "      <td>4298113</td>\n",
       "      <td>Olivier</td>\n",
       "      <td>My stay at islam's place was really cool! Good...</td>\n",
       "    </tr>\n",
       "    <tr>\n",
       "      <th>1</th>\n",
       "      <td>1178162</td>\n",
       "      <td>4869189</td>\n",
       "      <td>2013-05-29</td>\n",
       "      <td>6452964</td>\n",
       "      <td>Charlotte</td>\n",
       "      <td>Great location for both airport and city - gre...</td>\n",
       "    </tr>\n",
       "    <tr>\n",
       "      <th>2</th>\n",
       "      <td>1178162</td>\n",
       "      <td>5003196</td>\n",
       "      <td>2013-06-06</td>\n",
       "      <td>6449554</td>\n",
       "      <td>Sebastian</td>\n",
       "      <td>We really enjoyed our stay at Islams house. Fr...</td>\n",
       "    </tr>\n",
       "    <tr>\n",
       "      <th>3</th>\n",
       "      <td>1178162</td>\n",
       "      <td>5150351</td>\n",
       "      <td>2013-06-15</td>\n",
       "      <td>2215611</td>\n",
       "      <td>Marine</td>\n",
       "      <td>The room was nice and clean and so were the co...</td>\n",
       "    </tr>\n",
       "    <tr>\n",
       "      <th>4</th>\n",
       "      <td>1178162</td>\n",
       "      <td>5171140</td>\n",
       "      <td>2013-06-16</td>\n",
       "      <td>6848427</td>\n",
       "      <td>Andrew</td>\n",
       "      <td>Great location. Just 5 mins walk from the Airp...</td>\n",
       "    </tr>\n",
       "  </tbody>\n",
       "</table>\n",
       "</div>"
      ],
      "text/plain": [
       "   listing_id       id        date  reviewer_id reviewer_name  \\\n",
       "0     1178162  4724140  2013-05-21      4298113       Olivier   \n",
       "1     1178162  4869189  2013-05-29      6452964     Charlotte   \n",
       "2     1178162  5003196  2013-06-06      6449554     Sebastian   \n",
       "3     1178162  5150351  2013-06-15      2215611        Marine   \n",
       "4     1178162  5171140  2013-06-16      6848427        Andrew   \n",
       "\n",
       "                                            comments  \n",
       "0  My stay at islam's place was really cool! Good...  \n",
       "1  Great location for both airport and city - gre...  \n",
       "2  We really enjoyed our stay at Islams house. Fr...  \n",
       "3  The room was nice and clean and so were the co...  \n",
       "4  Great location. Just 5 mins walk from the Airp...  "
      ]
     },
     "execution_count": 4,
     "metadata": {},
     "output_type": "execute_result"
    }
   ],
   "source": [
    "reviews.head()\n",
    "#reviews.loc[reviews['listing_id'] == 10730]"
   ]
  },
  {
   "cell_type": "code",
   "execution_count": 5,
   "metadata": {},
   "outputs": [],
   "source": [
    "from nltk.corpus import stopwords   # stopwords to detect language\n",
    "from nltk import wordpunct_tokenize # function to split up our words\n",
    "\n",
    "def get_language_likelihood(input_text):\n",
    "    \"\"\"Return a dictionary of languages and their likelihood of being the \n",
    "    natural language of the input text\n",
    "    \"\"\"\n",
    " \n",
    "    input_text = input_text.lower()\n",
    "    input_words = wordpunct_tokenize(input_text)\n",
    " \n",
    "    language_likelihood = {}\n",
    "    total_matches = 0\n",
    "    for language in stopwords._fileids:\n",
    "        language_likelihood[language] = len(set(input_words) &\n",
    "                set(stopwords.words(language)))\n",
    " \n",
    "    return language_likelihood\n",
    " \n",
    "def get_language(input_text):\n",
    "    \"\"\"Return the most likely language of the given text\n",
    "    \"\"\" \n",
    "    likelihoods = get_language_likelihood(input_text)\n",
    "    return sorted(likelihoods, key=likelihoods.get, reverse=True)[0]"
   ]
  },
  {
   "cell_type": "code",
   "execution_count": 6,
   "metadata": {},
   "outputs": [],
   "source": [
    "reviews_df = reviews[reviews.apply(lambda srs: pd.notnull(srs['comments']), axis='columns')]"
   ]
  },
  {
   "cell_type": "code",
   "execution_count": 7,
   "metadata": {},
   "outputs": [],
   "source": [
    "example_listing_reviews = reviews_df.query('listing_id == 10730')"
   ]
  },
  {
   "cell_type": "code",
   "execution_count": 8,
   "metadata": {},
   "outputs": [],
   "source": [
    "from nltk import word_tokenize"
   ]
  },
  {
   "cell_type": "code",
   "execution_count": 9,
   "metadata": {},
   "outputs": [],
   "source": [
    "words = np.concatenate(np.array([word_tokenize(r) for r in example_listing_reviews['comments'].values]))"
   ]
  },
  {
   "cell_type": "code",
   "execution_count": 10,
   "metadata": {},
   "outputs": [
    {
     "data": {
      "text/plain": [
       "array(['I', 'went', 'to', ..., 'all', 'the', 'sights'], dtype='<U17')"
      ]
     },
     "execution_count": 10,
     "metadata": {},
     "output_type": "execute_result"
    }
   ],
   "source": [
    "words"
   ]
  },
  {
   "cell_type": "code",
   "execution_count": 11,
   "metadata": {},
   "outputs": [
    {
     "data": {
      "text/plain": [
       "[('centrally', 'located'),\n",
       " ('an', 'amazing'),\n",
       " ('If', 'you'),\n",
       " ('next', 'time'),\n",
       " ('view', 'of'),\n",
       " ('very', 'nice'),\n",
       " ('The', 'kitchen'),\n",
       " ('very', 'helpful'),\n",
       " ('a', 'hotel'),\n",
       " ('than', 'a')]"
      ]
     },
     "execution_count": 11,
     "metadata": {},
     "output_type": "execute_result"
    }
   ],
   "source": [
    "from nltk.collocations import BigramAssocMeasures, TrigramAssocMeasures, BigramCollocationFinder\n",
    "\n",
    "bigram_measures = BigramAssocMeasures()\n",
    "finder = BigramCollocationFinder.from_words(words)\n",
    "\n",
    "finder.apply_freq_filter(3) \n",
    "finder.nbest(bigram_measures.pmi, 10)  "
   ]
  },
  {
   "cell_type": "code",
   "execution_count": 12,
   "metadata": {},
   "outputs": [],
   "source": [
    "review_words = reviews_df.groupby('listing_id').apply(\n",
    "    lambda df: np.concatenate(np.array([word_tokenize(r) for r in df['comments'].values]))\n",
    ")"
   ]
  },
  {
   "cell_type": "code",
   "execution_count": 13,
   "metadata": {},
   "outputs": [
    {
     "data": {
      "text/plain": [
       "['Hi', 'there']"
      ]
     },
     "execution_count": 13,
     "metadata": {},
     "output_type": "execute_result"
    }
   ],
   "source": [
    "import string\n",
    "\n",
    "ex = ['Hi', 'there', '.', '?', '!', ',']\n",
    "[w for w in ex if w not in string.punctuation]"
   ]
  },
  {
   "cell_type": "code",
   "execution_count": 15,
   "metadata": {},
   "outputs": [],
   "source": [
    "review_words_f = review_words.map(lambda arr: np.array([w for w in arr if w not in string.punctuation]))"
   ]
  },
  {
   "cell_type": "code",
   "execution_count": 16,
   "metadata": {},
   "outputs": [
    {
     "data": {
      "text/plain": [
       "listing_id\n",
       "3353    [Very, friendly, and, helpful, Convenient, loc...\n",
       "5506    [Terry, 's, Hotel, Alterntv, in, Boston, was, ...\n",
       "6695    [Terry, 's, apartment, is, beautifully, decora...\n",
       "6976    [A, Wonderful, pleasant, and, charming, host, ...\n",
       "8792    [The, unit, was, quiet, convenient, excellentl...\n",
       "dtype: object"
      ]
     },
     "execution_count": 16,
     "metadata": {},
     "output_type": "execute_result"
    }
   ],
   "source": [
    "review_words_f.head()"
   ]
  },
  {
   "cell_type": "code",
   "execution_count": 17,
   "metadata": {},
   "outputs": [],
   "source": [
    "def reattach_contractions(wordlist):\n",
    "    words = []\n",
    "    for i, word in enumerate(wordlist):\n",
    "        if word[0] == \"'\" or word == \"n't\":\n",
    "            words[-1] = words[-1] + word\n",
    "        else:\n",
    "            words.append(word)\n",
    "    return words"
   ]
  },
  {
   "cell_type": "code",
   "execution_count": 18,
   "metadata": {},
   "outputs": [],
   "source": [
    "review_words_f = review_words_f.map(reattach_contractions)"
   ]
  },
  {
   "cell_type": "code",
   "execution_count": 19,
   "metadata": {},
   "outputs": [],
   "source": [
    "def bigramify(words):\n",
    "    finder = BigramCollocationFinder.from_words(words)\n",
    "    finder.apply_freq_filter(3) \n",
    "    return finder.nbest(bigram_measures.pmi, 3)\n",
    "\n",
    "review_bigrams = review_words_f.map(bigramify)"
   ]
  },
  {
   "cell_type": "code",
   "execution_count": 20,
   "metadata": {
    "scrolled": true
   },
   "outputs": [
    {
     "data": {
      "text/plain": [
       "listing_id\n",
       "3353             [(green, line), (T, station), (at, home)]\n",
       "5506     [(Hotel, Alternative), (better, than), (3, nig...\n",
       "6695     [(Back, Bay), (public, transportation), (Fort,...\n",
       "6976      [(Forest, Hills), (Roslindale, Village), (’, s)]\n",
       "8792            [(Beacon, Hill), (an, excellent), (I, am)]\n",
       "9273                   [(when, we), (I, would), (If, you)]\n",
       "9765                                [(of, the), (to, the)]\n",
       "9824            [(Back, Bay), (small, but), (on, Newbury)]\n",
       "9855                [(of, the), (the, reception), (is, a)]\n",
       "9857       [(2nd, bedroom), (enjoyed, our), (here, again)]\n",
       "9858                                                    []\n",
       "9860         [(Great, location), (distance, to), (a, bit)]\n",
       "9870                                                    []\n",
       "10730     [(centrally, located), (an, amazing), (If, you)]\n",
       "10758                                                   []\n",
       "10809                [(close, to), (it, was), (The, room)]\n",
       "10811                                                   []\n",
       "12356                 [(a, few), (in, Boston), (to, this)]\n",
       "12441      [(would, definitely), (have, been), (did, not)]\n",
       "13059      [(North, End), (White, Elephant), (hot, water)]\n",
       "dtype: object"
      ]
     },
     "execution_count": 20,
     "metadata": {},
     "output_type": "execute_result"
    }
   ],
   "source": [
    "review_bigrams.head(20)"
   ]
  },
  {
   "cell_type": "code",
   "execution_count": 21,
   "metadata": {},
   "outputs": [],
   "source": [
    "def sample_reviews(listing_id):\n",
    "    bigrams = review_bigrams[listing_id]\n",
    "    review_texts = reviews[reviews['listing_id'] == listing_id]['comments'].values\n",
    "    sample_reviews = []\n",
    "    for bigram in bigrams:\n",
    "        sample_review_list = list(filter(lambda txt: \" \".join(bigram) in txt, review_texts))\n",
    "        num_reviews = len(sample_review_list)\n",
    "        sample_review = sample_review_list[0]\n",
    "        sample_review = sample_review.replace(\" \".join(bigram), \"****\" + \" \".join(bigram) + \"****\")\n",
    "        start_index = sample_review.index(\"****\")\n",
    "        sample_text = \"...\" + sample_review[start_index - 47: start_index + 47] + \"...\"\n",
    "        sample_reviews.append(sample_text)\n",
    "    return sample_reviews"
   ]
  },
  {
   "cell_type": "code",
   "execution_count": 24,
   "metadata": {},
   "outputs": [
    {
     "name": "stdout",
     "output_type": "stream",
     "text": [
      "...e is very nicely located - a few blocks to the ****green line**** T station and bus stops, wit...\n",
      "...icely located - a few blocks to the green line ****T station**** and bus stops, with several r...\n",
      "...hen I first arrived there. Usually ,he was not ****at home**** and works a lot. There are thre...\n"
     ]
    }
   ],
   "source": [
    "for review in sample_reviews(3353):\n",
    "    print(review)"
   ]
  },
  {
   "cell_type": "code",
   "execution_count": 25,
   "metadata": {},
   "outputs": [
    {
     "name": "stdout",
     "output_type": "stream",
     "text": [
      "...appartment was real value for (URL HIDDEN) was ****centrally located**** and provided easy acc...\n",
      "...h. The apartment had everything we needed plus ****an amazing**** view of Boston from the roof...\n",
      "...need.\r\n",
      "The bed sofa can accomodate two people. ****If you**** plan on having visitors note the...\n"
     ]
    }
   ],
   "source": [
    "for review in sample_reviews(10730):\n",
    "    print(review)"
   ]
  },
  {
   "cell_type": "code",
   "execution_count": null,
   "metadata": {},
   "outputs": [],
   "source": []
  }
 ],
 "metadata": {
  "kernelspec": {
   "display_name": "Python 3",
   "language": "python",
   "name": "python3"
  },
  "language_info": {
   "codemirror_mode": {
    "name": "ipython",
    "version": 3
   },
   "file_extension": ".py",
   "mimetype": "text/x-python",
   "name": "python",
   "nbconvert_exporter": "python",
   "pygments_lexer": "ipython3",
   "version": "3.6.5"
  }
 },
 "nbformat": 4,
 "nbformat_minor": 2
}
